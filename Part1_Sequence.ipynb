{
 "cells": [
  {
   "cell_type": "raw",
   "metadata": {},
   "source": [
    "$$\n",
    "\\newcommand{\\mat}[1]{\\boldsymbol {#1}}\n",
    "\\newcommand{\\mattr}[1]{\\boldsymbol {#1}^\\top}\n",
    "\\newcommand{\\matinv}[1]{\\boldsymbol {#1}^{-1}}\n",
    "\\newcommand{\\vec}[1]{\\boldsymbol {#1}}\n",
    "\\newcommand{\\vectr}[1]{\\boldsymbol {#1}^\\top}\n",
    "\\newcommand{\\rvar}[1]{\\mathrm {#1}}\n",
    "\\newcommand{\\rvec}[1]{\\boldsymbol{\\mathrm{#1}}}\n",
    "\\newcommand{\\diag}{\\mathop{\\mathrm {diag}}}\n",
    "\\newcommand{\\set}[1]{\\mathbb {#1}}\n",
    "\\newcommand{\\norm}[1]{\\left\\lVert#1\\right\\rVert}\n",
    "\\newcommand{\\pderiv}[2]{\\frac{\\partial #1}{\\partial #2}}\n",
    "\\newcommand{\\bb}[1]{\\boldsymbol{#1}}\n",
    "$$\n",
    "# Part 1: Sequence Models\n",
    "<a id=part1></a>"
   ]
  },
  {
   "cell_type": "markdown",
   "metadata": {},
   "source": [
    "In this part we will learn about working with text sequences using recurrent neural networks.\n",
    "We'll go from a raw text file all the way to a fully trained GRU-RNN model and generate works of art!"
   ]
  },
  {
   "cell_type": "code",
   "execution_count": 1,
   "metadata": {},
   "outputs": [
    {
     "name": "stdout",
     "output_type": "stream",
     "text": [
      "Using device: cuda\n"
     ]
    }
   ],
   "source": [
    "import unittest\n",
    "import os\n",
    "import sys\n",
    "import pathlib\n",
    "import urllib\n",
    "import shutil\n",
    "import re\n",
    "\n",
    "import numpy as np\n",
    "import torch\n",
    "import matplotlib.pyplot as plt\n",
    "\n",
    "%load_ext autoreload\n",
    "%autoreload 2\n",
    "\n",
    "test = unittest.TestCase()\n",
    "plt.rcParams.update({'font.size': 12})\n",
    "device = torch.device('cuda' if torch.cuda.is_available() else 'cpu')\n",
    "print('Using device:', device)"
   ]
  },
  {
   "cell_type": "markdown",
   "metadata": {},
   "source": [
    "## Text generation with a char-level RNN\n",
    "<a id=part1_1></a>"
   ]
  },
  {
   "cell_type": "markdown",
   "metadata": {},
   "source": [
    "### Obtaining the corpus\n",
    "<a id=part1_2></a>"
   ]
  },
  {
   "cell_type": "markdown",
   "metadata": {},
   "source": [
    "Let's begin by downloading a corpus containing all the works of William Shakespeare.\n",
    "Since he was very prolific, this corpus is fairly large and will provide us with enough data for\n",
    "obtaining impressive results."
   ]
  },
  {
   "cell_type": "code",
   "execution_count": 2,
   "metadata": {},
   "outputs": [
    {
     "name": "stdout",
     "output_type": "stream",
     "text": [
      "Corpus file /home/me.halpern/.pytorch-datasets/shakespeare.txt exists, skipping download.\n"
     ]
    }
   ],
   "source": [
    "CORPUS_URL = 'https://github.com/cedricdeboom/character-level-rnn-datasets/raw/master/datasets/shakespeare.txt'\n",
    "DATA_DIR = pathlib.Path.home().joinpath('.pytorch-datasets')\n",
    "\n",
    "def download_corpus(out_path=DATA_DIR, url=CORPUS_URL, force=False):\n",
    "    pathlib.Path(out_path).mkdir(exist_ok=True)\n",
    "    out_filename = os.path.join(out_path, os.path.basename(url))\n",
    "    \n",
    "    if os.path.isfile(out_filename) and not force:\n",
    "        print(f'Corpus file {out_filename} exists, skipping download.')\n",
    "    else:\n",
    "        print(f'Downloading {url}...')\n",
    "        with urllib.request.urlopen(url) as response, open(out_filename, 'wb') as out_file:\n",
    "            shutil.copyfileobj(response, out_file)\n",
    "        print(f'Saved to {out_filename}.')\n",
    "    return out_filename\n",
    "    \n",
    "corpus_path = download_corpus()"
   ]
  },
  {
   "cell_type": "markdown",
   "metadata": {},
   "source": [
    "Load the text into memory and print a snippet:"
   ]
  },
  {
   "cell_type": "code",
   "execution_count": 3,
   "metadata": {},
   "outputs": [
    {
     "name": "stdout",
     "output_type": "stream",
     "text": [
      "Corpus length: 6347703 chars\n",
      "ALLS WELL THAT ENDS WELL\n",
      "\n",
      "by William Shakespeare\n",
      "\n",
      "Dramatis Personae\n",
      "\n",
      "  KING OF FRANCE\n",
      "  THE DUKE OF FLORENCE\n",
      "  BERTRAM, Count of Rousillon\n",
      "  LAFEU, an old lord\n",
      "  PAROLLES, a follower of Bertram\n",
      "  TWO FRENCH LORDS, serving with Bertram\n",
      "\n",
      "  STEWARD, Servant to the Countess of Rousillon\n",
      "  LAVACHE, a clown and Servant to the Countess of Rousillon\n",
      "  A PAGE, Servant to the Countess of Rousillon\n",
      "\n",
      "  COUNTESS OF ROUSILLON, mother to Bertram\n",
      "  HELENA, a gentlewoman protected by the Countess\n",
      "  A WIDOW OF FLORENCE.\n",
      "  DIANA, daughter to the Widow\n",
      "\n",
      "  VIOLENTA, neighbour and friend to the Widow\n",
      "  MARIANA, neighbour and friend to the Widow\n",
      "\n",
      "  Lords, Officers, Soldiers, etc., French and Florentine  \n",
      "\n",
      "SCENE:\n",
      "Rousillon; Paris; Florence; Marseilles\n",
      "\n",
      "ACT I. SCENE 1.\n",
      "Rousillon. The COUNT'S palace\n",
      "\n",
      "Enter BERTRAM, the COUNTESS OF ROUSILLON, HELENA, and LAFEU, all in black\n",
      "\n",
      "  COUNTESS. In delivering my son from me, I bury a second husband.\n",
      "  BERTRAM. And I in going, madam, weep o'er my father's death anew;\n",
      "    but I must attend his Majesty's command, to whom I am now in\n",
      "    ward, evermore in subjection.\n",
      "  LAFEU. You shall find of the King a husband, madam; you, sir, a\n",
      "    father. He that so generally is at all times good must of\n",
      "    \n"
     ]
    }
   ],
   "source": [
    "with open(corpus_path, 'r') as f:\n",
    "    corpus = f.read()\n",
    "\n",
    "print(f'Corpus length: {len(corpus)} chars')\n",
    "print(corpus[7:1234])"
   ]
  },
  {
   "cell_type": "markdown",
   "metadata": {},
   "source": [
    "### Data Preprocessing\n",
    "<a id=part1_3></a>"
   ]
  },
  {
   "cell_type": "markdown",
   "metadata": {},
   "source": [
    "The first thing we'll need is to map from each unique character in the corpus to an index that will represent it in our learning process.\n",
    "\n",
    "**TODO**: Implement the `char_maps()` function in the `hw3/charnn.py` module."
   ]
  },
  {
   "cell_type": "code",
   "execution_count": 4,
   "metadata": {},
   "outputs": [
    {
     "name": "stdout",
     "output_type": "stream",
     "text": [
      "{'\\n': 0, ' ': 1, '!': 2, '\"': 3, '$': 4, '&': 5, \"'\": 6, '(': 7, ')': 8, ',': 9, '-': 10, '.': 11, '0': 12, '1': 13, '2': 14, '3': 15, '4': 16, '5': 17, '6': 18, '7': 19, '8': 20, '9': 21, ':': 22, ';': 23, '<': 24, '?': 25, 'A': 26, 'B': 27, 'C': 28, 'D': 29, 'E': 30, 'F': 31, 'G': 32, 'H': 33, 'I': 34, 'J': 35, 'K': 36, 'L': 37, 'M': 38, 'N': 39, 'O': 40, 'P': 41, 'Q': 42, 'R': 43, 'S': 44, 'T': 45, 'U': 46, 'V': 47, 'W': 48, 'X': 49, 'Y': 50, 'Z': 51, '[': 52, ']': 53, '_': 54, 'a': 55, 'b': 56, 'c': 57, 'd': 58, 'e': 59, 'f': 60, 'g': 61, 'h': 62, 'i': 63, 'j': 64, 'k': 65, 'l': 66, 'm': 67, 'n': 68, 'o': 69, 'p': 70, 'q': 71, 'r': 72, 's': 73, 't': 74, 'u': 75, 'v': 76, 'w': 77, 'x': 78, 'y': 79, 'z': 80, '}': 81, '\\ufeff': 82}\n"
     ]
    }
   ],
   "source": [
    "import hw3.charnn as charnn\n",
    "\n",
    "char_to_idx, idx_to_char = charnn.char_maps(corpus)\n",
    "print(char_to_idx)\n",
    "\n",
    "test.assertEqual(len(char_to_idx), len(idx_to_char))\n",
    "test.assertSequenceEqual(list(char_to_idx.keys()), list(idx_to_char.values()))\n",
    "test.assertSequenceEqual(list(char_to_idx.values()), list(idx_to_char.keys()))"
   ]
  },
  {
   "cell_type": "markdown",
   "metadata": {},
   "source": [
    "Seems we have some strange characters in the corpus that are very rare and are probably due to mistakes.\n",
    "To reduce the length of each tensor we'll need to later represent our chars, it's best to remove them.\n",
    "\n",
    "**TODO**: Implement the `remove_chars()` function in the `hw3/charnn.py` module."
   ]
  },
  {
   "cell_type": "code",
   "execution_count": 5,
   "metadata": {},
   "outputs": [
    {
     "name": "stdout",
     "output_type": "stream",
     "text": [
      "Removed 34 chars\n"
     ]
    }
   ],
   "source": [
    "corpus, n_removed = charnn.remove_chars(corpus, ['}','$','_','<','\\ufeff'])\n",
    "print(f'Removed {n_removed} chars')\n",
    "\n",
    "# After removing the chars, re-create the mappings\n",
    "char_to_idx, idx_to_char = charnn.char_maps(corpus)"
   ]
  },
  {
   "cell_type": "markdown",
   "metadata": {},
   "source": [
    "The next thing we need is an **embedding** of the chracters.\n",
    "An embedding is a representation of each token from the sequence as a tensor.\n",
    "For a char-level RNN, our tokens will be chars and we can thus use the simplest possible embedding: encode each char as a **one-hot** tensor. In other words, each char will be represented\n",
    "as a tensor whos length is the total number of unique chars (`V`) which contains all zeros except at the index\n",
    "corresponding to that specific char.\n",
    "\n",
    "**TODO**: Implement the functions `chars_to_onehot()` and `onehot_to_chars()` in the `hw3/charnn.py` module."
   ]
  },
  {
   "cell_type": "code",
   "execution_count": 6,
   "metadata": {},
   "outputs": [
    {
     "name": "stdout",
     "output_type": "stream",
     "text": [
      "brine a maiden can season her praise in.\n",
      "   \n",
      "tensor([[0, 0, 0, 0, 0, 0, 0, 0, 0, 0, 0, 0, 0, 0, 0, 0, 0, 0, 0, 0, 0, 0, 0, 0,\n",
      "         0, 0, 0, 0, 0, 0, 0, 0, 0, 0, 0, 0, 0, 0, 0, 0, 0, 0, 0, 0, 0, 0, 0, 0,\n",
      "         0, 0, 0, 0, 0, 1, 0, 0, 0, 0, 0, 0, 0, 0, 0, 0, 0, 0, 0, 0, 0, 0, 0, 0,\n",
      "         0, 0, 0, 0, 0, 0],\n",
      "        [0, 0, 0, 0, 0, 0, 0, 0, 0, 0, 0, 0, 0, 0, 0, 0, 0, 0, 0, 0, 0, 0, 0, 0,\n",
      "         0, 0, 0, 0, 0, 0, 0, 0, 0, 0, 0, 0, 0, 0, 0, 0, 0, 0, 0, 0, 0, 0, 0, 0,\n",
      "         0, 0, 0, 0, 0, 0, 0, 0, 0, 0, 0, 0, 0, 0, 0, 0, 0, 0, 0, 0, 0, 1, 0, 0,\n",
      "         0, 0, 0, 0, 0, 0],\n",
      "        [0, 0, 0, 0, 0, 0, 0, 0, 0, 0, 0, 0, 0, 0, 0, 0, 0, 0, 0, 0, 0, 0, 0, 0,\n",
      "         0, 0, 0, 0, 0, 0, 0, 0, 0, 0, 0, 0, 0, 0, 0, 0, 0, 0, 0, 0, 0, 0, 0, 0,\n",
      "         0, 0, 0, 0, 0, 0, 0, 0, 0, 0, 0, 0, 1, 0, 0, 0, 0, 0, 0, 0, 0, 0, 0, 0,\n",
      "         0, 0, 0, 0, 0, 0]], dtype=torch.int8)\n"
     ]
    }
   ],
   "source": [
    "# Wrap the actual embedding functions for calling convenience\n",
    "def embed(text):\n",
    "    return charnn.chars_to_onehot(text, char_to_idx)\n",
    "\n",
    "def unembed(embedding):\n",
    "    return charnn.onehot_to_chars(embedding, idx_to_char)\n",
    "\n",
    "text_snippet = corpus[3104:3148]\n",
    "print(text_snippet)\n",
    "print(embed(text_snippet[0:3]))\n",
    "\n",
    "test.assertEqual(text_snippet, unembed(embed(text_snippet)))\n",
    "test.assertEqual(embed(text_snippet).dtype, torch.int8)"
   ]
  },
  {
   "cell_type": "markdown",
   "metadata": {},
   "source": [
    "### Dataset Creation\n",
    "<a id=part1_4></a>"
   ]
  },
  {
   "cell_type": "markdown",
   "metadata": {},
   "source": [
    "We wish to train our model to generate text by constantly predicting what the next char should be based on the past.\n",
    "To that end we'll need to train our recurrent network in a way similar to a classification task. At each timestep, we input a char and set the expected output (label) to be the next char in the original sequence.\n",
    "\n",
    "We will split our corpus into shorter sequences of length `S` chars (try to think why; see question below).\n",
    "Each **sample** we provide our model with will therefore be a tensor of shape `(S,V)` where `V` is the embedding dimension. Our model will operate sequentially on each char in the sequence.\n",
    "For each sample, we'll also need a **label**. This is simple another sequence, shifted by one char so that the label of each char is the next char in the corpus.\n",
    "\n",
    "**TODO**: Implement the `chars_to_labelled_samples()` function in the `hw3/charnn.py` module."
   ]
  },
  {
   "cell_type": "code",
   "execution_count": 7,
   "metadata": {},
   "outputs": [
    {
     "name": "stdout",
     "output_type": "stream",
     "text": [
      "samples shape: torch.Size([99182, 64, 78])\n",
      "labels shape: torch.Size([99182, 64])\n",
      "sample 100 as text:\n",
      "nity, though valiant in the\n",
      "    defence, yet is weak. Unfold to \n"
     ]
    }
   ],
   "source": [
    "# Create dataset of sequences\n",
    "seq_len = 64\n",
    "vocab_len = len(char_to_idx)\n",
    "\n",
    "# Create labelled samples\n",
    "samples, labels = charnn.chars_to_labelled_samples(corpus, char_to_idx, seq_len, device)\n",
    "print(f'samples shape: {samples.shape}')\n",
    "print(f'labels shape: {labels.shape}')\n",
    "\n",
    "# Test shapes\n",
    "num_samples = (len(corpus) - 1) // seq_len\n",
    "test.assertEqual(samples.shape, (num_samples, seq_len, vocab_len))\n",
    "test.assertEqual(labels.shape, (num_samples, seq_len))\n",
    "\n",
    "# Test content\n",
    "for _ in range(1000):\n",
    "    # random sample\n",
    "    i = np.random.randint(num_samples, size=(1,))[0]\n",
    "    # Compare to corpus\n",
    "    test.assertEqual(unembed(samples[i]), corpus[i*seq_len:(i+1)*seq_len], msg=f\"content mismatch in sample {i}\")\n",
    "    # Compare to labels\n",
    "    sample_text = unembed(samples[i])\n",
    "    label_text = str.join('', [idx_to_char[j.item()] for j in labels[i]])\n",
    "    test.assertEqual(sample_text[1:], label_text[0:-1], msg=f\"label mismatch in sample {i}\")\n",
    "    \n",
    "print(f'sample 100 as text:\\n{unembed(samples[100])}')"
   ]
  },
  {
   "cell_type": "markdown",
   "metadata": {},
   "source": [
    "As usual, instead of feeding one sample as a time into our model's forward we'll work with **batches** of samples. This means that at every timestep, our model will operate on a batch of chars that are from **different sequences**.\n",
    "Effectively this will allow us to parallelize training our model by dong matrix-matrix multiplications\n",
    "instead of matrix-vector during the forward pass.\n",
    "\n",
    "Let's use the standard PyTorch `Dataset`/`DataLoader` combo. Luckily for the dataset we can use a built-in\n",
    "class, `TensorDataset` to return tuples of `(sample, label)` from the `samples` and `labels` tensors we created above."
   ]
  },
  {
   "cell_type": "code",
   "execution_count": 8,
   "metadata": {},
   "outputs": [],
   "source": [
    "import torch.utils.data\n",
    "\n",
    "# Create DataLoader returning batches of samples.\n",
    "batch_size = 32\n",
    "\n",
    "ds_corpus = torch.utils.data.TensorDataset(samples, labels)\n",
    "dl_corpus = torch.utils.data.DataLoader(ds_corpus, batch_size=batch_size, shuffle=False)"
   ]
  },
  {
   "cell_type": "markdown",
   "metadata": {},
   "source": [
    "Let's see what that gives us:"
   ]
  },
  {
   "cell_type": "code",
   "execution_count": 9,
   "metadata": {},
   "outputs": [
    {
     "name": "stdout",
     "output_type": "stream",
     "text": [
      "num batches: 3100\n",
      "shape of a batch sample: torch.Size([32, 64, 78])\n",
      "shape of a batch label: torch.Size([32, 64])\n"
     ]
    }
   ],
   "source": [
    "print(f'num batches: {len(dl_corpus)}')\n",
    "\n",
    "x0, y0 = next(iter(dl_corpus))\n",
    "print(f'shape of a batch sample: {x0.shape}')\n",
    "print(f'shape of a batch label: {y0.shape}')"
   ]
  },
  {
   "cell_type": "markdown",
   "metadata": {},
   "source": [
    "### Model Implementation\n",
    "<a id=part1_5></a>"
   ]
  },
  {
   "cell_type": "markdown",
   "metadata": {},
   "source": [
    "Finally, our data set is ready so we can focus on our model.\n",
    "\n",
    "We'll implement here is a multilayer gated recurrent unit (GRU) model, with dropout.\n",
    "This model is a type of RNN which performs similar to the well-known LSTM model,\n",
    "but it's somewhat easier to train because it has less parameters.\n",
    "We'll modify the regular GRU slightly by applying dropout to\n",
    "the hidden states passed between layers of the model.\n",
    "\n",
    "The model accepts an input $\\mat{X}\\in\\set{R}^{S\\times V}$ containing a sequence of embedded chars.\n",
    "It returns an output $\\mat{Y}\\in\\set{R}^{S\\times V}$ of predictions for the next char and the final hidden state\n",
    "$\\mat{H}\\in\\set{R}^{L\\times H}$. Here $S$ is the sequence length, $V$ is the vocabulary size (number of unique chars), $L$ is the number of layers in the model and $H$ is the hidden dimension."
   ]
  },
  {
   "cell_type": "markdown",
   "metadata": {},
   "source": [
    "Mathematically, the model's forward function at layer $k\\in[1,L]$ and timestep $t\\in[1,S]$ can be described as\n",
    "\n",
    "$$\n",
    "\\begin{align}\n",
    "\\vec{z_t}^{[k]} &= \\sigma\\left(\\vec{x}^{[k]}_t {\\mattr{W}_{\\mathrm{xz}}}^{[k]} +\n",
    "    \\vec{h}_{t-1}^{[k]} {\\mattr{W}_{\\mathrm{hz}}}^{[k]} + \\vec{b}_{\\mathrm{z}}^{[k]}\\right) \\\\\n",
    "\\vec{r_t}^{[k]} &= \\sigma\\left(\\vec{x}^{[k]}_t {\\mattr{W}_{\\mathrm{xr}}}^{[k]} +\n",
    "    \\vec{h}_{t-1}^{[k]} {\\mattr{W}_{\\mathrm{hr}}}^{[k]} + \\vec{b}_{\\mathrm{r}}^{[k]}\\right) \\\\\n",
    "\\vec{g_t}^{[k]} &= \\tanh\\left(\\vec{x}^{[k]}_t {\\mattr{W}_{\\mathrm{xg}}}^{[k]} +\n",
    "    (\\vec{r_t}^{[k]}\\odot\\vec{h}_{t-1}^{[k]}) {\\mattr{W}_{\\mathrm{hg}}}^{[k]} + \\vec{b}_{\\mathrm{g}}^{[k]}\\right) \\\\\n",
    "\\vec{h_t}^{[k]} &= \\vec{z}^{[k]}_t \\odot \\vec{h}^{[k]}_{t-1} + \\left(1-\\vec{z}^{[k]}_t\\right)\\odot \\vec{g_t}^{[k]}\n",
    "\\end{align}\n",
    "$$"
   ]
  },
  {
   "cell_type": "markdown",
   "metadata": {},
   "source": [
    "The input to each layer is,\n",
    "$$\n",
    "\\mat{X}^{[k]} =\n",
    "\\begin{bmatrix}\n",
    "    {\\vec{x}_1}^{[k]} \\\\ \\vdots \\\\ {\\vec{x}_S}^{[k]}\n",
    "\\end{bmatrix} \n",
    "=\n",
    "\\begin{cases}\n",
    "    \\mat{X} & \\mathrm{if} ~k = 1~ \\\\\n",
    "    \\mathrm{dropout}_p \\left(\n",
    "    \\begin{bmatrix}\n",
    "        {\\vec{h}_1}^{[k-1]} \\\\ \\vdots \\\\ {\\vec{h}_S}^{[k-1]}\n",
    "    \\end{bmatrix} \\right) & \\mathrm{if} ~1 < k \\leq L+1~\n",
    "\\end{cases}.\n",
    "$$"
   ]
  },
  {
   "cell_type": "markdown",
   "metadata": {},
   "source": [
    "The output of the entire model is then,\n",
    "$$\n",
    "\\mat{Y} = \\mat{X}^{[L+1]} {\\mattr{W}_{\\mathrm{hy}}} + \\mat{B}_{\\mathrm{y}}\n",
    "$$"
   ]
  },
  {
   "cell_type": "markdown",
   "metadata": {},
   "source": [
    "and the final hidden state is\n",
    "$$\n",
    "\\mat{H} = \n",
    "\\begin{bmatrix}\n",
    "    {\\vec{h}_S}^{[1]} \\\\ \\vdots \\\\ {\\vec{h}_S}^{[L]}\n",
    "\\end{bmatrix}.\n",
    "$$"
   ]
  },
  {
   "cell_type": "markdown",
   "metadata": {},
   "source": [
    "Notes:\n",
    "- $t\\in[1,S]$ is the timestep, i.e. the current position within the sequence of each sample.\n",
    "- $\\vec{x}_t^{[k]}$ is the input of layer $k$ at timestep $t$, respectively.\n",
    "- The outputs of the **last layer** $\\vec{y}_t^{[L]}$, are the predicted next characters for every input char.\n",
    "  These are similar to class scores in classification tasks.\n",
    "- The hidden states at the **last timestep**, $\\vec{h}_S^{[k]}$, are the final hidden state returned from the model.\n",
    "- $\\sigma(\\cdot)$ is the sigmoid function, i.e. $\\sigma(\\vec{z}) = 1/(1+e^{-\\vec{z}})$ which returns values in $(0,1)$.\n",
    "- $\\tanh(\\cdot)$ is the hyperbolic tangent, i.e. $\\tanh(\\vec{z}) = (e^{2\\vec{z}}-1)/(e^{2\\vec{z}}+1)$ which returns values in $(-1,1)$.\n",
    "- $\\vec{h_t}^{[k]}$ is the hidden state of layer $k$ at time $t$. This can be thought of as the memory of that layer.\n",
    "- $\\vec{g_t}^{[k]}$ is the candidate hidden state for time $t+1$.\n",
    "- $\\vec{z_t}^{[k]}$ is known as the update gate. It combines the previous state with the input to determine how much the current state will be combined with the new candidate state. For example, if $\\vec{z_t}^{[k]}=\\vec{1}$ then the current input has no effect on the output.\n",
    "- $\\vec{r_t}^{[k]}$ is known as the reset gate. It combines the previous state with the input to determine how much of the previous state will affect the current state candidate. For example if $\\vec{r_t}^{[k]}=\\vec{0}$ the previous state has no effect on the current candidate state."
   ]
  },
  {
   "cell_type": "markdown",
   "metadata": {},
   "source": [
    "Here's a graphical representation of the GRU's forward pass at each timestep. The $\\vec{\\tilde{h}}$ in the image is our $\\vec{g}$ (candidate next state).\n",
    "\n",
    "<img src=\"imgs/gru_cell.png\" width=\"400\"/>\n",
    "\n",
    "You can see how the reset and update gates allow the model to completely ignore it's previous state, completely ignore it's input, or any mixture of those states (since the gates are actually continuous and between $(0,1)$)."
   ]
  },
  {
   "cell_type": "markdown",
   "metadata": {},
   "source": [
    "Here's a graphical representation of the entire model.\n",
    "You can ignore the $c_t^{[k]}$ (cell state) variables (which are relevant for LSTM models).\n",
    "Our model has only the hidden state, $h_t^{[k]}$. Also notice that we added dropout between layers (the up arrows).\n",
    "\n",
    "<img src=\"imgs/lstm_model.png\"/>\n",
    "\n",
    "The purple tensors are inputs (a sequence and initial hidden state per layer), and the green tensors are outputs (another sequence and final hidden state per layer). Each blue block implements the above forward equations.\n",
    "Blocks that are on the same vertical level are at the same layer, and therefore share parameters."
   ]
  },
  {
   "cell_type": "markdown",
   "metadata": {},
   "source": [
    "**TODO**: Implement the `MultilayerGRU` class in the `hw3/charnn.py` module.\n",
    "\n",
    "Notes:\n",
    "- You'll need to handle input **batches** now.\n",
    "  The math is identical to the above, but all the tensors will have an extra batch\n",
    "  dimension as their first dimension.\n",
    "- Use the diagram above to help guide your implementation.\n",
    "  It will help you visualize what shapes to returns where, etc.\n"
   ]
  },
  {
   "cell_type": "code",
   "execution_count": 10,
   "metadata": {
    "scrolled": true
   },
   "outputs": [
    {
     "name": "stdout",
     "output_type": "stream",
     "text": [
      "MultilayerGRU(\n",
      "  (GRUCell_0): GRUCell(\n",
      "    (x_wxz): Linear(in_features=78, out_features=256, bias=True)\n",
      "    (x_wxr): Linear(in_features=78, out_features=256, bias=True)\n",
      "    (x_wxg): Linear(in_features=78, out_features=256, bias=True)\n",
      "    (h_whz): Linear(in_features=256, out_features=256, bias=False)\n",
      "    (h_whr): Linear(in_features=256, out_features=256, bias=False)\n",
      "    (h_whg): Linear(in_features=256, out_features=256, bias=False)\n",
      "  )\n",
      "  (GRUCell_1): GRUCell(\n",
      "    (x_wxz): Linear(in_features=256, out_features=256, bias=True)\n",
      "    (x_wxr): Linear(in_features=256, out_features=256, bias=True)\n",
      "    (x_wxg): Linear(in_features=256, out_features=256, bias=True)\n",
      "    (h_whz): Linear(in_features=256, out_features=256, bias=False)\n",
      "    (h_whr): Linear(in_features=256, out_features=256, bias=False)\n",
      "    (h_whg): Linear(in_features=256, out_features=256, bias=False)\n",
      "  )\n",
      "  (why): Linear(in_features=256, out_features=78, bias=True)\n",
      ")\n",
      "y.shape=torch.Size([32, 64, 78])\n",
      "h.shape=torch.Size([32, 2, 256])\n"
     ]
    },
    {
     "name": "stderr",
     "output_type": "stream",
     "text": [
      "/home/me.halpern/miniconda3/envs/cs236605-hw/lib/python3.7/site-packages/torch/nn/functional.py:1006: UserWarning: nn.functional.sigmoid is deprecated. Use torch.sigmoid instead.\n",
      "  warnings.warn(\"nn.functional.sigmoid is deprecated. Use torch.sigmoid instead.\")\n",
      "/home/me.halpern/miniconda3/envs/cs236605-hw/lib/python3.7/site-packages/torch/nn/functional.py:995: UserWarning: nn.functional.tanh is deprecated. Use torch.tanh instead.\n",
      "  warnings.warn(\"nn.functional.tanh is deprecated. Use torch.tanh instead.\")\n"
     ]
    }
   ],
   "source": [
    "in_dim = vocab_len\n",
    "h_dim = 256\n",
    "n_layers = 2\n",
    "model = charnn.MultilayerGRU(in_dim, h_dim, out_dim=in_dim, n_layers=n_layers)\n",
    "model = model.to(device)\n",
    "print(model)\n",
    "\n",
    "# Test forward pass\n",
    "y, h = model(x0.to(dtype=torch.float))\n",
    "print(f'y.shape={y.shape}')\n",
    "print(f'h.shape={h.shape}')\n",
    "\n",
    "test.assertEqual(y.shape, (batch_size, seq_len, vocab_len))\n",
    "test.assertEqual(h.shape, (batch_size, n_layers, h_dim))\n",
    "test.assertEqual(len(list(model.parameters())), 9 * n_layers + 2) "
   ]
  },
  {
   "cell_type": "markdown",
   "metadata": {},
   "source": [
    "### Generating text by sampling\n",
    "<a id=part1_6></a>"
   ]
  },
  {
   "cell_type": "markdown",
   "metadata": {},
   "source": [
    "Now that we have a model, we can implement **text generation** based on it.\n",
    "The idea is simple:\n",
    "At each timestep our model receives one char $x_t$ from the input sequence and outputs scores $y_t$\n",
    "for what the next char should be.\n",
    "We'll convert these scores into a probability over each of the possible chars.\n",
    "In other words, for each input char $x_t$ we create a probability distribution for the next char\n",
    "conditioned on the current one and the state of the model (representing all previous inputs):\n",
    "$$p(x_{t+1}|x_t; \\vec{h}_t).$$\n",
    "\n",
    "Once we have such a distribution, we'll sample a char from it.\n",
    "This will be the first char of our generated sequence.\n",
    "Now we can feed this new char into the model, create another distribution, sample the next char and so on.\n",
    "Note that it's crucial to propagate the hidden state when sampling.\n",
    "\n",
    "The important point however is how to create the distribution from the scores.\n",
    "One way, as we saw in previous ML tasks, is to use the softmax function.\n",
    "However, a drawback of softmax is that it can generate very diffuse (more uniform) distributions if the score values are very similar. When sampling, we would prefer to control the distributions and make them less uniform to increase the chance of sampling the char(s) with the highest scores compared to the others.\n",
    "\n",
    "To control the variance of the distribution, a common trick is to add a hyperparameter $T$, known as the \n",
    "*temperature* to the softmax function. The class scores are simply scaled by $T$ before softmax is applied:\n",
    "$$\n",
    "\\mathrm{softmax}_T(\\vec{y}) = \\frac{e^{\\vec{y}/T}}{\\sum_k e^{y_k/T}}\n",
    "$$\n",
    "\n",
    "A low $T$ will result in less uniform distributions and vice-versa."
   ]
  },
  {
   "cell_type": "markdown",
   "metadata": {},
   "source": [
    "**TODO**: Implement the `hot_softmax()` function in the `hw3/charnn.py` module."
   ]
  },
  {
   "cell_type": "code",
   "execution_count": 11,
   "metadata": {},
   "outputs": [
    {
     "data": {
      "image/png": "[encoded data removed]",
      "text/plain": [
       "<Figure size 1080x360 with 1 Axes>"
      ]
     },
     "metadata": {
      "needs_background": "light"
     },
     "output_type": "display_data"
    }
   ],
   "source": [
    "scores = y[0,0,:].detach()\n",
    "_, ax = plt.subplots(figsize=(15,5))\n",
    "\n",
    "for t in reversed([0.3, 0.5, 1.0, 100]):\n",
    "    ax.plot(charnn.hot_softmax(scores, temperature=t).cpu().numpy(), label=f'T={t}')\n",
    "ax.set_xlabel('$x_{t+1}$')\n",
    "ax.set_ylabel('$p(x_{t+1}|x_t)$')\n",
    "ax.legend()\n",
    "\n",
    "uniform_proba = 1/len(char_to_idx)\n",
    "uniform_diff = torch.abs(charnn.hot_softmax(scores, temperature=100) - uniform_proba)\n",
    "test.assertTrue(torch.all(uniform_diff < 1e-4))"
   ]
  },
  {
   "cell_type": "markdown",
   "metadata": {},
   "source": [
    "**TODO**: Implement the `generate_from_model()` function in the `hw3/charnn.py` module."
   ]
  },
  {
   "cell_type": "code",
   "execution_count": 12,
   "metadata": {
    "scrolled": true
   },
   "outputs": [
    {
     "name": "stdout",
     "output_type": "stream",
     "text": [
      "foobargSUM)2IaY;M9\n",
      "peAmB]lIdYwVyKm!EcjFvr!9sWR329(\n",
      "foobar2vZ\"m(v!sX3HFE(m\"(q8Ascs9hkB9K2)8i3dk!9v49S5\n",
      "foobarUXq:TAwBj\"o)o':Ky6cEt6MGA2 ceC'KY2mARTmwh7si\n"
     ]
    }
   ],
   "source": [
    "for _ in range(3):\n",
    "    text = charnn.generate_from_model(model, \"foobar\", 50, (char_to_idx, idx_to_char), T=0.5)\n",
    "    print(text)\n",
    "    test.assertEqual(len(text), 50)"
   ]
  },
  {
   "cell_type": "markdown",
   "metadata": {},
   "source": [
    "### Training\n",
    "<a id=part1_7></a>"
   ]
  },
  {
   "cell_type": "markdown",
   "metadata": {},
   "source": [
    "To train such a model, we'll calculate the loss at each time step by comparing the predicted char to\n",
    "the actual char from our label. We can use cross entropy since per char it's similar to a classification problem.\n",
    "We'll then sum the losses over the sequence and back-propagate the gradients though time.\n",
    "Notice that the back-propagation algorithm will \"visit\" each layer's parameter tensors multiple times,\n",
    "so we'll accumulate gradients in parameters of the blocks. Luckily `autograd` will handle this part for us."
   ]
  },
  {
   "cell_type": "markdown",
   "metadata": {},
   "source": [
    "As usual, the first step of training will be to try and **overfit** a large model (many parameters) to a tiny dataset.\n",
    "Again, this is to ensure the model and training code are implemented correctly, i.e. that the model can learn.\n",
    "\n",
    "For a generative model such as this, overfitting is slightly trickier than for for classification.\n",
    "What we'll aim to do is to get our model to **memorize** a specific sequence of chars, so that when given the first\n",
    "char in the sequence it will immediately spit out the rest of the sequence verbatim.\n",
    "\n",
    "Let's create a tiny dataset to memorize."
   ]
  },
  {
   "cell_type": "code",
   "execution_count": 13,
   "metadata": {},
   "outputs": [
    {
     "name": "stdout",
     "output_type": "stream",
     "text": [
      "Text to \"memorize\":\n",
      "\n",
      "TRAM. What would you have?\n",
      "  HELENA. Something; and scarce so much; nothing, indeed.\n",
      "    I would not tell you what I would, my lord.\n",
      "    Faith, yes:\n",
      "    Strangers and foes do sunder and not kiss.\n",
      "  BERTRAM. I pray you, stay not, but in haste to horse.\n",
      "  HE\n"
     ]
    }
   ],
   "source": [
    "# Pick a tiny subset of the dataset\n",
    "subset_start, subset_end = 1001, 1005\n",
    "ds_corpus_ss = torch.utils.data.Subset(ds_corpus, range(subset_start, subset_end))\n",
    "dl_corpus_ss = torch.utils.data.DataLoader(ds_corpus_ss, batch_size=1, shuffle=False)\n",
    "\n",
    "# Convert subset to text\n",
    "subset_text = ''\n",
    "for i in range(subset_end - subset_start):\n",
    "    subset_text += unembed(ds_corpus_ss[i][0])\n",
    "print(f'Text to \"memorize\":\\n\\n{subset_text}')"
   ]
  },
  {
   "cell_type": "markdown",
   "metadata": {},
   "source": [
    "Now let's implement the first part of our training code.\n",
    "\n",
    "**TODO**: Implement the `train_epoch()` and `train_batch()` methods of the `RNNTrainer` class in the `hw3/training.py` module. \n",
    "Note: Think about how to correctly handle the hidden state of the model between batches and epochs\n",
    "(for this specific task, i.e. text generation)."
   ]
  },
  {
   "cell_type": "code",
   "execution_count": 14,
   "metadata": {
    "scrolled": true
   },
   "outputs": [
    {
     "name": "stdout",
     "output_type": "stream",
     "text": [
      "\n",
      "Epoch #1: Avg. loss = 249.512, Accuracy = 18.36%\n",
      "Tno      ot o oooooo oo ooooot oooooootoooooooo to oooootoott oooo oooooooooooooooooo otooooooo oooo oootoooooo o oooo otoo o  ooooooooooootootooootooooooooooooooootoooooooo ooooooto ooo ooooo oo oooooooooo oootooooooooooo o ooooooo  ooooaoo o oo o ooooooo\n",
      "\n",
      "Epoch #25: Avg. loss = 9.038, Accuracy = 98.83%\n",
      "TRAM. What would you have?\n",
      "  HELENA. Something; and scarce so much; nothing, indeed.\n",
      "    Faith, yes:\n",
      "    Strangers and foes do sunder and not kiss.\n",
      "  BERTRAM. I pray you, stay not, but in haste to horse.\n",
      "  HELETRRAM. I pray you, stay not kiss.\n",
      "    Stranger\n",
      "\n",
      "Epoch #50: Avg. loss = 0.413, Accuracy = 100.00%\n",
      "TRAM. What would you have?\n",
      "  HELENA. Something; and scarce so much; nothing, indeed.\n",
      "    I would not tell you what I would, my lord.\n",
      "    Faith, yes:\n",
      "    Strangers and foes do sunder and not kiss.\n",
      "  BERTRAM. I pray you, stay not, but in haste to horse.\n",
      "  HE\n"
     ]
    }
   ],
   "source": [
    "import torch.nn as nn\n",
    "import torch.optim as optim\n",
    "from hw3.training import RNNTrainer\n",
    "\n",
    "torch.manual_seed(42)\n",
    "\n",
    "lr = 0.01\n",
    "num_epochs = 500\n",
    "\n",
    "in_dim = vocab_len\n",
    "h_dim = 128\n",
    "n_layers = 2\n",
    "loss_fn = nn.CrossEntropyLoss()\n",
    "model = charnn.MultilayerGRU(in_dim, h_dim, out_dim=in_dim, n_layers=n_layers).to(device)\n",
    "optimizer = optim.Adam(model.parameters(), lr=lr)\n",
    "trainer = RNNTrainer(model, loss_fn, optimizer, device)\n",
    "\n",
    "for epoch in range(num_epochs):\n",
    "    epoch_result = trainer.train_epoch(dl_corpus_ss, verbose=False)\n",
    "    \n",
    "    # Every X epochs, we'll generate a sequence starting from the first char in the first sequence\n",
    "    # to visualize how/if/what the model is learning.\n",
    "    if epoch == 0 or (epoch+1) % 25 == 0:\n",
    "        avg_loss = np.mean(epoch_result.losses)\n",
    "        accuracy = np.mean(epoch_result.accuracy)\n",
    "        print(f'\\nEpoch #{epoch+1}: Avg. loss = {avg_loss:.3f}, Accuracy = {accuracy:.2f}%')\n",
    "        \n",
    "        generated_sequence = charnn.generate_from_model(model, subset_text[0],\n",
    "                                                        seq_len*(subset_end-subset_start),\n",
    "                                                        (char_to_idx,idx_to_char), T=0.1)\n",
    "        # Stop if we've successfully memorized the small dataset.\n",
    "        print(generated_sequence)\n",
    "        if generated_sequence == subset_text:\n",
    "            break\n",
    "\n",
    "# Test successful overfitting\n",
    "test.assertGreater(epoch_result.accuracy, 99)\n",
    "test.assertEqual(generated_sequence, subset_text)"
   ]
  },
  {
   "cell_type": "markdown",
   "metadata": {},
   "source": [
    "OK, so training works - we can memorize a short sequence. Next on the agenda is to split our full dataset into a training and test sets of batched sequences."
   ]
  },
  {
   "cell_type": "code",
   "execution_count": 15,
   "metadata": {},
   "outputs": [
    {
     "name": "stdout",
     "output_type": "stream",
     "text": [
      "Train: 348 batches, 5701632 chars\n",
      "Test:   38 batches,  622592 chars\n"
     ]
    }
   ],
   "source": [
    "# Full dataset definition\n",
    "vocab_len = len(char_to_idx)\n",
    "seq_len = 64\n",
    "batch_size = 256\n",
    "train_test_ratio = 0.9\n",
    "num_samples = (len(corpus) - 1) // seq_len\n",
    "num_train = int(train_test_ratio * num_samples)\n",
    "\n",
    "samples, labels = charnn.chars_to_labelled_samples(corpus, char_to_idx, seq_len, device)\n",
    "\n",
    "ds_train = torch.utils.data.TensorDataset(samples[:num_train], labels[:num_train])\n",
    "dl_train = torch.utils.data.DataLoader(ds_train, batch_size=batch_size, shuffle=False, drop_last=True)\n",
    "\n",
    "ds_test = torch.utils.data.TensorDataset(samples[num_train:], labels[num_train:])\n",
    "dl_test = torch.utils.data.DataLoader(ds_test, batch_size=batch_size, shuffle=False, drop_last=True)\n",
    "\n",
    "print(f'Train: {len(dl_train):3d} batches, {len(dl_train)*batch_size*seq_len:7d} chars')\n",
    "print(f'Test:  {len(dl_test):3d} batches, {len(dl_test)*batch_size*seq_len:7d} chars')"
   ]
  },
  {
   "cell_type": "markdown",
   "metadata": {},
   "source": [
    "We'll now train a much larger model on our large dataset.\n",
    "You'll need a **GPU** for this part.\n",
    "\n",
    "The code blocks below will train the model and save checkpoints containing the training state and the best model parameters to a file. This allows you to stop training and resume it later from where you left.\n",
    "\n",
    "Note that you can use the `main.py` script provided within the assignment folder to run this notebook from the command line as if it were a python script by using the `run-nb` subcommand. This allows you to train your model using this notebook without starting jupyter. You can combine this with `srun` or `sbatch` to run the notebook with a GPU on the course servers."
   ]
  },
  {
   "cell_type": "code",
   "execution_count": 16,
   "metadata": {},
   "outputs": [],
   "source": [
    "# Full training definition\n",
    "lr = 0.001\n",
    "num_epochs = 50\n",
    "\n",
    "in_dim = out_dim = vocab_len\n",
    "hidden_dim = 512\n",
    "n_layers = 3\n",
    "dropout = 0.5\n",
    "checkpoint_file = 'checkpoints/rnn'\n",
    "max_batches = 300\n",
    "early_stopping = 5\n",
    "\n",
    "model = charnn.MultilayerGRU(in_dim, hidden_dim, out_dim, n_layers, dropout)\n",
    "loss_fn = nn.CrossEntropyLoss()\n",
    "optimizer = optim.Adam(model.parameters(), lr=lr)\n",
    "scheduler = optim.lr_scheduler.ReduceLROnPlateau(optimizer, mode='max', factor=0.5, patience=2, verbose=True)\n",
    "trainer = RNNTrainer(model, loss_fn, optimizer, device)"
   ]
  },
  {
   "cell_type": "markdown",
   "metadata": {},
   "source": [
    "**TODO**:\n",
    "- Implement the `fit()` method of the `Trainer` class. You can reuse the implementation from HW2, but make sure to implement early stopping and checkpoints.\n",
    "- Implement the `test_epoch()` and `test_batch()` methods of the `RNNTrainer` class in the `hw3/training.py` module.\n",
    "- Run the following block to train."
   ]
  },
  {
   "cell_type": "code",
   "execution_count": 17,
   "metadata": {},
   "outputs": [
    {
     "name": "stdout",
     "output_type": "stream",
     "text": [
      "ACT I.UW26Fn58\"wgKPVm'\n",
      ";!6zP?REFEXoz4z?Y;1t02a0L8;Pjm IuinX'YADZK[vL0z,IGJA1&5qw2yG(l0\"!Q24bQ!!JTOa2\n",
      "--- EPOCH 1/50 ---\n",
      "train_batch (Avg. Loss 162.169, Accuracy 33.1): 100%|██████████| 300/300 [01:06<00:00,  4.55it/s]\n",
      "test_batch (Avg. Loss 159.948, Accuracy 34.0): 100%|██████████| 38/38 [00:03<00:00, 12.42it/s]\n",
      "ACT I. He me sore in the pory whand hare not in. I wall the his in my and of the the save in ender t\n",
      "--- EPOCH 2/50 ---\n",
      "train_batch (Avg. Loss 125.021, Accuracy 44.2): 100%|██████████| 300/300 [01:06<00:00,  4.53it/s]\n",
      "test_batch (Avg. Loss 142.732, Accuracy 39.2): 100%|██████████| 38/38 [00:03<00:00, 12.30it/s]\n",
      "ACT I. What do be pare and this surve to the see.\n",
      "  CACELDA. I wall so the make the man of thou sore\n",
      "--- EPOCH 3/50 ---\n",
      "train_batch (Avg. Loss 116.073, Accuracy 47.7): 100%|██████████| 300/300 [01:06<00:00,  4.54it/s]\n",
      "test_batch (Avg. Loss 135.739, Accuracy 42.0): 100%|██████████| 38/38 [00:03<00:00, 12.30it/s]\n",
      "ACT I. What do a than your works, and the come shall say my lames and like a good could and my robes\n",
      "--- EPOCH 4/50 ---\n",
      "train_batch (Avg. Loss 111.069, Accuracy 49.7): 100%|██████████| 300/300 [01:06<00:00,  4.54it/s]\n",
      "test_batch (Avg. Loss 131.309, Accuracy 43.9): 100%|██████████| 38/38 [00:03<00:00, 12.38it/s]\n",
      "ACT I.\n",
      "  DEDELO. What will you that shall be bear me to my doand me a father stand of all the man al\n",
      "--- EPOCH 5/50 ---\n",
      "train_batch (Avg. Loss 107.724, Accuracy 51.1): 100%|██████████| 300/300 [01:06<00:00,  4.55it/s]\n",
      "test_batch (Avg. Loss 128.845, Accuracy 45.2): 100%|██████████| 38/38 [00:03<00:00, 12.30it/s]\n",
      "ACT I. I was the ward in for him.\n",
      "  ACHELLO. Who what will that's the sent to my lord.\n",
      "    O can the\n",
      "--- EPOCH 6/50 ---\n",
      "train_batch (Avg. Loss 105.314, Accuracy 52.1): 100%|██████████| 300/300 [01:05<00:00,  4.55it/s]\n",
      "test_batch (Avg. Loss 126.634, Accuracy 46.3): 100%|██████████| 38/38 [00:03<00:00, 12.37it/s]\n",
      "ACT I. Lord, Did I will be so but a partance.\n",
      "  LORD. What well be the infortune of my cater.       \n",
      "--- EPOCH 7/50 ---\n",
      "train_batch (Avg. Loss 103.390, Accuracy 53.0): 100%|██████████| 300/300 [01:06<00:00,  4.55it/s]\n",
      "test_batch (Avg. Loss 124.911, Accuracy 47.1): 100%|██████████| 38/38 [00:03<00:00, 12.39it/s]\n",
      "ACT I. Whose shall have not in my lord.\n",
      "    Come that is the man. How now my lord, what is the best \n",
      "--- EPOCH 8/50 ---\n",
      "train_batch (Avg. Loss 101.926, Accuracy 53.6): 100%|██████████| 300/300 [01:06<00:00,  4.55it/s]\n",
      "test_batch (Avg. Loss 123.836, Accuracy 47.7): 100%|██████████| 38/38 [00:03<00:00, 12.40it/s]\n",
      "ACT I. Come, now, I cannot be a man and ranger than the life. I will be a sword of a see, and as we \n",
      "--- EPOCH 9/50 ---\n",
      "train_batch (Avg. Loss 100.742, Accuracy 54.1): 100%|██████████| 300/300 [01:06<00:00,  4.55it/s]\n",
      "test_batch (Avg. Loss 123.037, Accuracy 48.2): 100%|██████████| 38/38 [00:03<00:00, 12.28it/s]\n",
      "ACT I.\n",
      "  SECOND LORD. I will be a that thou hast that is not be shall like a bad and lack of a mothe\n",
      "--- EPOCH 10/50 ---\n",
      "train_batch (Avg. Loss 99.728, Accuracy 54.5): 100%|██████████| 300/300 [01:06<00:00,  4.54it/s]\n",
      "test_batch (Avg. Loss 122.196, Accuracy 48.6): 100%|██████████| 38/38 [00:03<00:00, 12.28it/s]\n",
      "ACT I. And my father's love by the prayers of the bark in the sight,\n",
      "    Shall be a gold to the pain\n",
      "--- EPOCH 11/50 ---\n",
      "train_batch (Avg. Loss 98.849, Accuracy 54.9): 100%|██████████| 300/300 [01:06<00:00,  4.55it/s]\n",
      "test_batch (Avg. Loss 121.734, Accuracy 48.8): 100%|██████████| 38/38 [00:03<00:00, 11.94it/s]\n",
      "ACT I.\n",
      "  CRESSIDA. I think you there shall she is being that for the strange of a pale comes a gods \n",
      "--- EPOCH 12/50 ---\n",
      "train_batch (Avg. Loss 98.127, Accuracy 55.2): 100%|██████████| 300/300 [01:06<00:00,  4.55it/s]\n",
      "test_batch (Avg. Loss 121.123, Accuracy 49.2): 100%|██████████| 38/38 [00:03<00:00, 12.35it/s]\n",
      "ACT I.\n",
      "  CASSIO. No, my lord, and so shall not so here, and we have done of son of the earth.\n",
      "    Th\n",
      "--- EPOCH 13/50 ---\n",
      "train_batch (Avg. Loss 97.452, Accuracy 55.5): 100%|██████████| 300/300 [01:06<00:00,  4.55it/s]\n",
      "test_batch (Avg. Loss 120.655, Accuracy 49.4): 100%|██████████| 38/38 [00:03<00:00, 12.39it/s]\n",
      "ACT I. SCENE I.\n",
      "  CHERSIDES. I will be done and courtesy straight we will deliver the state of her b\n",
      "--- EPOCH 14/50 ---\n",
      "train_batch (Avg. Loss 96.889, Accuracy 55.7): 100%|██████████| 300/300 [01:06<00:00,  4.55it/s]\n",
      "test_batch (Avg. Loss 120.227, Accuracy 49.6): 100%|██████████| 38/38 [00:03<00:00, 12.29it/s]\n",
      "ACT I. SCENE 1.\n",
      "That is the wind;\n",
      "    No poor friends than the point of my such a stand for a word;\n",
      "\n",
      "--- EPOCH 15/50 ---\n",
      "train_batch (Avg. Loss 96.325, Accuracy 55.9): 100%|██████████| 300/300 [01:06<00:00,  4.52it/s]\n",
      "test_batch (Avg. Loss 119.395, Accuracy 49.9): 100%|██████████| 38/38 [00:03<00:00, 12.29it/s]\n",
      "ACT I.\n",
      "ACTIIV. She will be our soul shall be rest to be a basket of the present man;\n",
      "    And in the \n",
      "--- EPOCH 16/50 ---\n",
      "train_batch (Avg. Loss 95.864, Accuracy 56.1): 100%|██████████| 300/300 [01:06<00:00,  4.54it/s]\n",
      "test_batch (Avg. Loss 119.018, Accuracy 50.0): 100%|██████████| 38/38 [00:03<00:00, 12.35it/s]\n",
      "ACT I. SCENE I.\n",
      "A streams and all the season, hear the world and born to be make a man come to so sh\n",
      "--- EPOCH 17/50 ---\n",
      "train_batch (Avg. Loss 95.435, Accuracy 56.3): 100%|██████████| 300/300 [01:05<00:00,  4.55it/s]\n",
      "test_batch (Avg. Loss 118.467, Accuracy 50.2): 100%|██████████| 38/38 [00:03<00:00, 12.38it/s]\n",
      "ACT I. She do me the bears of my lord,\n",
      "    That thou hast still the action of the ready of our count\n",
      "--- EPOCH 18/50 ---\n",
      "train_batch (Avg. Loss 95.001, Accuracy 56.5): 100%|██████████| 300/300 [01:06<00:00,  4.55it/s]\n",
      "test_batch (Avg. Loss 118.425, Accuracy 50.2): 100%|██████████| 38/38 [00:03<00:00, 12.34it/s]\n",
      "ACT I. So go and not see our sons, and with a more dead!\n",
      "    I will be beauty and come for this advi\n",
      "--- EPOCH 19/50 ---\n",
      "train_batch (Avg. Loss 94.609, Accuracy 56.6): 100%|██████████| 300/300 [01:06<00:00,  4.54it/s]\n",
      "test_batch (Avg. Loss 118.142, Accuracy 50.5): 100%|██████████| 38/38 [00:03<00:00, 12.38it/s]\n",
      "ACT I.\n",
      "    Have you so so but dead and many poor words, and give me think'st;\n",
      "    I will prove my te\n",
      "--- EPOCH 20/50 ---\n",
      "train_batch (Avg. Loss 94.269, Accuracy 56.8): 100%|██████████| 300/300 [01:06<00:00,  4.55it/s]\n",
      "test_batch (Avg. Loss 117.660, Accuracy 50.6): 100%|██████████| 38/38 [00:03<00:00, 12.29it/s]\n",
      "ACT I.\n",
      "The Grecian will of Tower with the man's base of a command with mine ear.\n",
      "    Here is your da\n",
      "--- EPOCH 21/50 ---\n",
      "train_batch (Avg. Loss 93.941, Accuracy 56.9): 100%|██████████| 300/300 [01:06<00:00,  4.55it/s]\n",
      "test_batch (Avg. Loss 117.659, Accuracy 50.6): 100%|██████████| 38/38 [00:03<00:00, 12.28it/s]\n",
      "ACT I. SCENE I.\n",
      "London. Now now, my lord.\n",
      "                                                          \n",
      "--- EPOCH 22/50 ---\n",
      "train_batch (Avg. Loss 93.615, Accuracy 57.0): 100%|██████████| 300/300 [01:06<00:00,  4.51it/s]\n",
      "test_batch (Avg. Loss 116.969, Accuracy 50.8): 100%|██████████| 38/38 [00:03<00:00, 12.26it/s]\n",
      "ACT I. SCENE 1.\n",
      "\n",
      "London. The man was a with some in the man.\n",
      "  ALAX. I am so but a man as the daught\n",
      "--- EPOCH 23/50 ---\n",
      "train_batch (Avg. Loss 93.326, Accuracy 57.2): 100%|██████████| 300/300 [01:06<00:00,  4.55it/s]\n",
      "test_batch (Avg. Loss 116.755, Accuracy 50.9): 100%|██████████| 38/38 [00:03<00:00, 12.40it/s]\n",
      "ACT I. SCENE 1.\n",
      "\n",
      "London. The general of my sight is the blood,\n",
      "    And what thou art so many of my s\n",
      "--- EPOCH 24/50 ---\n",
      "train_batch (Avg. Loss 93.055, Accuracy 57.3): 100%|██████████| 300/300 [01:06<00:00,  4.52it/s]\n",
      "test_batch (Avg. Loss 116.397, Accuracy 50.8): 100%|██████████| 38/38 [00:03<00:00, 12.37it/s]\n",
      "ACT I. SCENE I.\n",
      "A street of a great man and a fool, and shall be strike the great dead from the way \n",
      "--- EPOCH 25/50 ---\n",
      "train_batch (Avg. Loss 92.779, Accuracy 57.4): 100%|██████████| 300/300 [01:06<00:00,  4.55it/s]\n",
      "test_batch (Avg. Loss 116.247, Accuracy 51.0): 100%|██████████| 38/38 [00:03<00:00, 12.28it/s]\n",
      "ACT I. SCENE II.\n",
      "Good find the book of my heart.\n",
      "    I see not thy fool shall be so better to my fat\n",
      "--- EPOCH 26/50 ---\n",
      "train_batch (Avg. Loss 92.523, Accuracy 57.5): 100%|██████████| 300/300 [01:06<00:00,  4.56it/s]\n",
      "test_batch (Avg. Loss 115.980, Accuracy 51.2): 100%|██████████| 38/38 [00:03<00:00, 12.36it/s]\n",
      "ACT I. SCENE 1.\n",
      "The present servant of Taloot shall be shall be so for the earth is not the field.\n",
      " \n",
      "--- EPOCH 27/50 ---\n",
      "train_batch (Avg. Loss 92.300, Accuracy 57.6): 100%|██████████| 300/300 [01:06<00:00,  4.55it/s]\n",
      "test_batch (Avg. Loss 116.238, Accuracy 51.3): 100%|██████████| 38/38 [00:03<00:00, 12.28it/s]\n",
      "ACT I. SCENE II.\n",
      "A master, and all the like a word\n",
      "    Prepare me to do these that will do come to b\n",
      "--- EPOCH 28/50 ---\n",
      "train_batch (Avg. Loss 92.062, Accuracy 57.7): 100%|██████████| 300/300 [01:06<00:00,  4.52it/s]\n",
      "test_batch (Avg. Loss 115.790, Accuracy 51.3): 100%|██████████| 38/38 [00:03<00:00, 12.31it/s]\n",
      "ACT I. SCENE 1.\n",
      "Conour with an arms]\n",
      "    But many more so much should be so to the spirit.\n",
      "  ALAX. H\n",
      "--- EPOCH 29/50 ---\n",
      "train_batch (Avg. Loss 91.814, Accuracy 57.8): 100%|██████████| 300/300 [01:06<00:00,  4.56it/s]\n",
      "test_batch (Avg. Loss 115.830, Accuracy 51.4): 100%|██████████| 38/38 [00:03<00:00, 12.40it/s]\n",
      "ACT I. SCENE 3.\n",
      "Castle.\n",
      "  VOLUMNIA. I will not do you see the beard to her rest.\n",
      "  PANDARUS. I will \n",
      "--- EPOCH 30/50 ---\n",
      "train_batch (Avg. Loss 91.629, Accuracy 57.8): 100%|██████████| 300/300 [01:06<00:00,  4.55it/s]\n",
      "test_batch (Avg. Loss 115.585, Accuracy 51.5): 100%|██████████| 38/38 [00:03<00:00, 12.41it/s]\n",
      "ACT I. SCENE I.\n",
      "A street\n",
      "\n",
      "Enter PANDARUS\n",
      "    He is a valiant sons to this heart to the proud slave.\n",
      "\n",
      "--- EPOCH 31/50 ---\n",
      "train_batch (Avg. Loss 91.407, Accuracy 57.9): 100%|██████████| 300/300 [01:06<00:00,  4.54it/s]\n",
      "test_batch (Avg. Loss 115.580, Accuracy 51.5): 100%|██████████| 38/38 [00:03<00:00, 12.33it/s]\n",
      "ACT I. SCENE 3.\n",
      "The gentleman with him.\n",
      "    What is the death is to my father's speech.             \n",
      "--- EPOCH 32/50 ---\n",
      "train_batch (Avg. Loss 91.211, Accuracy 58.0): 100%|██████████| 300/300 [01:05<00:00,  4.55it/s]\n",
      "test_batch (Avg. Loss 115.131, Accuracy 51.6): 100%|██████████| 38/38 [00:03<00:00, 12.41it/s]\n",
      "ACT I. SCENE I.\n",
      "ALAXIS\n",
      "                                                                             \n",
      "--- EPOCH 33/50 ---\n",
      "train_batch (Avg. Loss 91.033, Accuracy 58.1): 100%|██████████| 300/300 [01:06<00:00,  4.56it/s]\n",
      "test_batch (Avg. Loss 115.197, Accuracy 51.7): 100%|██████████| 38/38 [00:03<00:00, 12.41it/s]\n",
      "ACT I.\n",
      "                                                                                             \n",
      "--- EPOCH 34/50 ---\n",
      "train_batch (Avg. Loss 90.841, Accuracy 58.2): 100%|██████████| 300/300 [01:06<00:00,  4.54it/s]\n",
      "test_batch (Avg. Loss 115.183, Accuracy 51.7): 100%|██████████| 38/38 [00:03<00:00, 12.36it/s]\n",
      "ACT I. SCENE 3.\n",
      "To shall be the false with it, bear me to the state.\n",
      "    If it be said, you are a pr\n",
      "--- EPOCH 35/50 ---\n",
      "train_batch (Avg. Loss 90.680, Accuracy 58.2): 100%|██████████| 300/300 [01:06<00:00,  4.55it/s]\n",
      "test_batch (Avg. Loss 114.826, Accuracy 51.8): 100%|██████████| 38/38 [00:03<00:00, 12.37it/s]\n",
      "ACT I.\n",
      "SCENE III.\n",
      "A sacred ball of the sentence of the leave\n",
      "    With sicks are flight and at the po\n",
      "--- EPOCH 36/50 ---\n",
      "train_batch (Avg. Loss 90.504, Accuracy 58.3): 100%|██████████| 300/300 [01:06<00:00,  4.55it/s]\n",
      "test_batch (Avg. Loss 115.124, Accuracy 51.8): 100%|██████████| 38/38 [00:03<00:00, 12.39it/s]\n",
      "ACT I. SCENE 1.\n",
      "\n",
      "The Greek and Calisan is the world, and stand in friends, where is the company of b\n",
      "--- EPOCH 37/50 ---\n",
      "train_batch (Avg. Loss 90.369, Accuracy 58.3): 100%|██████████| 300/300 [01:06<00:00,  4.55it/s]\n",
      "test_batch (Avg. Loss 114.944, Accuracy 51.8): 100%|██████████| 38/38 [00:03<00:00, 12.31it/s]\n",
      "ACT I.\n",
      "ACTIV. SCENE I.\n",
      "A bird mean to the time.\n",
      "    I can be pated in thy love.\n",
      "    But when I do no\n",
      "--- EPOCH 38/50 ---\n",
      "train_batch (Avg. Loss 90.199, Accuracy 58.4): 100%|██████████| 300/300 [01:06<00:00,  4.55it/s]\n",
      "test_batch (Avg. Loss 114.897, Accuracy 51.9): 100%|██████████| 38/38 [00:03<00:00, 12.38it/s]\n",
      "ACT I. SCENE 1.\n",
      "With the palace\n",
      "\n",
      "Enter NERISSA\n",
      "\n",
      "  MARCUS. What may they be a good conscience shall b\n",
      "--- EPOCH 39/50 ---\n",
      "train_batch (Avg. Loss 90.037, Accuracy 58.5): 100%|██████████| 300/300 [01:06<00:00,  4.55it/s]\n",
      "test_batch (Avg. Loss 114.794, Accuracy 51.8): 100%|██████████| 38/38 [00:03<00:00, 12.29it/s]\n",
      "ACT I.\n",
      "  LUCIUS. What is the world is any sorrow shall be there?\n",
      "  ARAMIO. I pray you, my lord, you \n",
      "--- EPOCH 40/50 ---\n",
      "train_batch (Avg. Loss 89.874, Accuracy 58.5): 100%|██████████| 300/300 [01:06<00:00,  4.55it/s]\n",
      "test_batch (Avg. Loss 114.920, Accuracy 51.9): 100%|██████████| 38/38 [00:03<00:00, 12.33it/s]\n",
      "ACT I. SCENE I.\n",
      "London. The palace\n",
      "\n",
      "Enter ACHILLES\n",
      "\n",
      "  PANDARUS. I part thee well in him.\n",
      "  ARIEL. I \n",
      "--- EPOCH 41/50 ---\n",
      "train_batch (Avg. Loss 89.748, Accuracy 58.6): 100%|██████████| 300/300 [01:06<00:00,  4.51it/s]\n",
      "test_batch (Avg. Loss 114.783, Accuracy 52.1): 100%|██████████| 38/38 [00:03<00:00, 12.28it/s]\n",
      "ACT I. SCENE 2.\n",
      "\n",
      "London. The day the house is a truth, and by the state,\n",
      "    And therefore be my fai\n",
      "--- EPOCH 42/50 ---\n",
      "train_batch (Avg. Loss 89.567, Accuracy 58.7): 100%|██████████| 300/300 [01:06<00:00,  4.54it/s]\n",
      "test_batch (Avg. Loss 114.610, Accuracy 52.0): 100%|██████████| 38/38 [00:03<00:00, 12.31it/s]\n",
      "ACT I. SCENE 1.\n",
      "\n",
      "London. A praise and Coriolanus!\n",
      "    I will see thee in the water in the love and l\n",
      "--- EPOCH 43/50 ---\n",
      "train_batch (Avg. Loss 89.423, Accuracy 58.7): 100%|██████████| 300/300 [01:06<00:00,  4.54it/s]\n",
      "test_batch (Avg. Loss 114.607, Accuracy 52.1): 100%|██████████| 38/38 [00:03<00:00, 12.04it/s]\n",
      "ACT I. SCENE 2.\n",
      "A signior Marcus that is a fellow unto the death.\n",
      "  FALSTAFF. To the sea, and theref\n",
      "--- EPOCH 44/50 ---\n",
      "train_batch (Avg. Loss 89.272, Accuracy 58.8): 100%|██████████| 300/300 [01:06<00:00,  4.54it/s]\n",
      "test_batch (Avg. Loss 114.489, Accuracy 52.1): 100%|██████████| 38/38 [00:03<00:00, 12.38it/s]\n",
      "ACT I. SCENE 2.\n",
      "Would I will be a strong and sense\n",
      "    Which is a wise than whom my country's person\n",
      "--- EPOCH 45/50 ---\n",
      "train_batch (Avg. Loss 89.170, Accuracy 58.8): 100%|██████████| 300/300 [01:06<00:00,  4.55it/s]\n",
      "test_batch (Avg. Loss 114.538, Accuracy 52.2): 100%|██████████| 38/38 [00:03<00:00, 12.28it/s]\n",
      "ACT I.\n",
      "SCENE III.\n",
      "A street with him]\n",
      "  SECOND LORD. What will you see the passion dead?\n",
      "  CRESSIDA. \n",
      "--- EPOCH 46/50 ---\n",
      "train_batch (Avg. Loss 89.033, Accuracy 58.9): 100%|██████████| 300/300 [01:06<00:00,  4.55it/s]\n",
      "test_batch (Avg. Loss 114.819, Accuracy 52.1): 100%|██████████| 38/38 [00:03<00:00, 11.75it/s]\n",
      "ACT I. SCENE 1.\n",
      "\n",
      "Antonio will I have a call'd reason.\n",
      "    I do not be a side of my dear lord, and th\n",
      "--- EPOCH 47/50 ---\n",
      "train_batch (Avg. Loss 88.881, Accuracy 59.0): 100%|██████████| 300/300 [01:06<00:00,  4.53it/s]\n",
      "test_batch (Avg. Loss 115.013, Accuracy 52.1): 100%|██████████| 38/38 [00:03<00:00, 12.41it/s]\n",
      "ACT I. SCENE 1.\n",
      "Dompers, and the content and the call'd Paris is the brain that was his father's gra\n",
      "--- EPOCH 48/50 ---\n",
      "train_batch (Avg. Loss 88.768, Accuracy 59.0): 100%|██████████| 300/300 [01:06<00:00,  4.55it/s]\n",
      "test_batch (Avg. Loss 114.447, Accuracy 52.2): 100%|██████████| 38/38 [00:03<00:00, 12.42it/s]\n",
      "ACT I.. I see thee with the grace, and to the wind and earth and spite\n",
      "    A stell contemplation in \n",
      "--- EPOCH 49/50 ---\n",
      "train_batch (Avg. Loss 88.683, Accuracy 59.0): 100%|██████████| 300/300 [01:06<00:00,  4.55it/s]\n",
      "test_batch (Avg. Loss 114.859, Accuracy 52.2): 100%|██████████| 38/38 [00:03<00:00, 11.14it/s]\n",
      "ACT I. SCENE 1.\n",
      "What shall I see the head of fair with fair dead soul is of the court?\n",
      "    I should \n",
      "--- EPOCH 50/50 ---\n",
      "train_batch (Avg. Loss 88.522, Accuracy 59.1): 100%|██████████| 300/300 [01:06<00:00,  4.53it/s]\n",
      "test_batch (Avg. Loss 114.432, Accuracy 52.2): 100%|██████████| 38/38 [00:03<00:00, 12.36it/s]\n",
      "ACT I.\n",
      "SCENE II.\n",
      "A street and Alcome.\n",
      "\n",
      "                                                             \n"
     ]
    },
    {
     "data": {
      "image/png": "[encoded data removed]",
      "text/plain": [
       "<Figure size 1152x720 with 4 Axes>"
      ]
     },
     "metadata": {
      "needs_background": "light"
     },
     "output_type": "display_data"
    }
   ],
   "source": [
    "from cs236605.plot import plot_fit\n",
    "\n",
    "def post_epoch_fn(epoch, test_res, train_res, verbose):\n",
    "    # Update learning rate\n",
    "    scheduler.step(test_res.accuracy)\n",
    "    # Sample from model to show progress\n",
    "    if verbose:\n",
    "        start_seq = \"ACT I.\"\n",
    "        generated_sequence = charnn.generate_from_model(\n",
    "            model, start_seq, 100, (char_to_idx,idx_to_char), T=0.5\n",
    "        )\n",
    "        print(generated_sequence)\n",
    "\n",
    "# Train, unless final checkpoint is found\n",
    "checkpoint_file_final = f'{checkpoint_file}_final.pt'\n",
    "if os.path.isfile(checkpoint_file_final):\n",
    "    print(f'*** Loading final checkpoint file {checkpoint_file_final} instead of training')\n",
    "    saved_state = torch.load(checkpoint_file_final, map_location=device)\n",
    "    model.load_state_dict(saved_state['model_state'])\n",
    "else:\n",
    "    try:\n",
    "        # Print pre-training sampling\n",
    "        print(charnn.generate_from_model(model, \"ACT I.\", 100, (char_to_idx,idx_to_char), T=0.5))\n",
    "\n",
    "        fit_res = trainer.fit(dl_train, dl_test, num_epochs, max_batches=max_batches,\n",
    "                              post_epoch_fn=post_epoch_fn, early_stopping=early_stopping,\n",
    "                              checkpoints=checkpoint_file, print_every=1)\n",
    "        \n",
    "        fig, axes = plot_fit(fit_res)\n",
    "    except KeyboardInterrupt as e:\n",
    "        print('\\n *** Training interrupted by user')"
   ]
  },
  {
   "cell_type": "markdown",
   "metadata": {},
   "source": [
    "### Generating a work of art\n",
    "<a id=part1_8></a>"
   ]
  },
  {
   "cell_type": "markdown",
   "metadata": {},
   "source": [
    "Armed with our fully trained model, let's generate the next Hamlet! You should experiment with modifying the sampling temperature and see what happens.\n",
    "\n",
    "**TODO**: Specify the generation parameters in the `part1_generation_params()` function within the `hw3/answers.py` module."
   ]
  },
  {
   "cell_type": "code",
   "execution_count": 18,
   "metadata": {},
   "outputs": [
    {
     "name": "stdout",
     "output_type": "stream",
     "text": [
      "the subjects with this back of this land;  \n",
      "    What beggar live to meet you? How now, and the same heart that you cannot take a good lord.\n",
      "    I have not save your hand, if it be sure to thee.\n",
      "    O my lord, I have a stars prove the state of many,\n",
      "    The man as the shame that is all the stars of beauty\n",
      "    And send the beauty in his passion to a thoughts,\n",
      "    And was the man is gone.\n",
      "    What shall I am so great a state of closet part,\n",
      "    And stay the present true like a word to the stars,\n",
      "    And in the ready of the state of soldiers stands him on the bait,\n",
      "    And with a story and the power to be the maiden company.\n",
      "  PANDARUS. What a devil is he should the fool you shall be with her that are she is not so fair and made the gods to heaven,\n",
      "    I were not to such a word of his presence;\n",
      "    And therefore make a sacred base of mine own soul,\n",
      "    When thou art all the wind of men that I is so much like a father's child,\n",
      "    In my that is not good and beat a fair basket.\n",
      "    There's so much that where I will have you that I may say he is your spirit,\n",
      "    Should be a service. What is it?\n",
      "  CRESSIDA. No, my lord, you will not dear long in the man; I will not stay.\n",
      "  PANDARUS. I am gone. What is the state of this?\n",
      "    What is the part of my garments is a start of speech in heaven, and be so this is done,\n",
      "    When thou art made of the grave crown of many is a most day to the forest revenge\n",
      "    That you shall not have done. Help, sir?\n",
      "  AGUECHEEK. The man hath a strange strange shall be your father's son,\n",
      "    And hear the dead of our slave is proved her heart.\n",
      "  AGUECHEEK. What is the good of him? What is your tongue do so?\n",
      "  ALEXAS. I will not not straight not see thee so interded their man for him. What is thy son great Hector, and the lady of the life.\n",
      "    Here comes the poor crown, one that were a service in the prison,\n",
      "    Our way with the sent to the world of the season of the lady.\n",
      "    What is the sense is not the tome to me.\n",
      "  CHARMIAN. I shall not so be done; he is a try of the field.  \n",
      "  CAESAR. Now the wit and men do not so long and believe thee.\n",
      "    I must not take the company of the citizens and late.\n",
      "                                                                                                                                                                                                                                                                                                                                                                                                                                                                                                                                                                                                                                                                                                                                                                                                                                                                                                                                                                                                                                                                                                                                                                                                                                                                                                                                                                                                                                                                                                                                                                                                                                                      Exeunt GRUMIO\n",
      "  CHARMIAN. So my soul is like the contract.\n",
      "    Here's the man that was so the beggar of the time is fair\n",
      "    In the state of this beast, so like the gentle potions, and be done to make the bastard than a painting of the fool.\n",
      "    A show of heart and honour in the fair of this is say here to the state that she is not a shame conceive the first of great and play,\n",
      "    And make the grace to sweet discourse in second will.\n",
      "  SIR TOBY. What's the not to her sake with the right that he is the love is so gentle all the prayers\n",
      "    Where we shall see your pleasure to your state and the head of the enemy\n",
      "    And to the form of me with a from my father's life.\n",
      "    O, so they fair and true heart before me.\n",
      "  PANDARUS. I will not give you all the cause of the earth of my mother to the crown.\n",
      "    I will in set of that that is the city still that will have no man shill hell him to your hand.\n",
      "                                                                                                                                                                                                                                                         Exit\n",
      "                                                                                                                                                                                                                                                                                                                                                                                                                                                               Exeunt\n",
      "\n",
      "SCENE III.\n",
      "A part is a friend of Capitol.                                                                                                                                                                                                                                                                                                                                                                                                                                                                                                                                                                                                                                                                                                                                                                                        Exeunt all but ANTONY\n",
      "\n",
      "  SECOND LORD. What is the great offence.\n",
      "  CRESSIDA. Here, what is thy death is a bastard and with me a stand of men!\n",
      "    Had you see your days are as the field is not a fool.\n",
      "  AJAX. I will not be a fair and provident in the profit of his honour for the sense in all the youngest death.\n",
      "    I will not see the lady that I think you have not known my heart.\n",
      "  AGUECHEEK. Not the other brother than where they do straight make some boy to the same for the black man.\n",
      "    As by the arms of our arms as the company\n",
      "    Do it not appear my proceeding.\n",
      "    He shall be sent for that where we shall be of the common company.\n",
      "    I pray you, sir, what is the love, you shall the poor of you.\n",
      "    I say to my master and my books of weak and breath,\n",
      "    And be a man of the rest and her back of men;\n",
      "    But on the infections of his state,\n",
      "    As account to make the beggar before. My cousin will not stay the beast;\n",
      "    And once in the devil grant him out of my part of my speech,\n",
      "    Which is our master's state in thee of fortune hath in the other door, and by your love,\n",
      "    When the charge is part and made a man stand all the strain of command.\n",
      "    Good horrim be poor come to the state. I had such a seat of the company;\n",
      "    And then are the man of the part of the cannot be conceut'd with all the state of too may be a preparation as you are not often shows.\n",
      "    O, what is the feast to the mind that we are in my heart;\n",
      "    And prove a strange sight of the country which is not a battle to be so with a king,\n",
      "    When that the man and the world that we that the conscience of well forget to the rage.\n",
      "    Sir, I do find the man as it is the name of love.\n",
      "    March with the fool of the bastard special thoughts in the common sight.\n",
      "    I do not come to thee, and let my speak by the great man in the best part of the part.\n",
      "    Have you not heard the next that may give you thought of the common speech,\n",
      "    If the troop in the fair sail of the very strange dead with me.                                                                                               Exeunt\n",
      "\n",
      "SCENE II.\n",
      "The face is so long blood.\n",
      "  CRESSIDA. I am a sweet and the base days to see thee there.\n",
      "  ACHILLES. I will make him all the common to a courts to make the other that she are done but the sea-said to my brother comes a death of this that she is such a shame,\n",
      "    Which is a man as it is love as a most brother.\n",
      "    How now, a word in the good madam, my lord?\n",
      "    Had it in this fair son, but that the world is but to have your daughter.\n",
      "    Here's a man when I see the sense of this be men of a man;\n",
      "    And now will you be so not so but he is not a as bear as we should have all my action,\n",
      "    And the true service of the ploone, and am I know not.\n",
      "  THERSITES. I love thee in the man's a voice; and that thou mayst meet the bed that I may see the streets of brother.\n",
      "    What is a true to see the bed that she was virtue to him in the earth.\n",
      "  PANDARUS. No, I will not sit you a fight of reason. If you have expected so much is not by a banquet so much so long a traitor upon him; and the fill is the part of your proceeding.\n",
      "    I cannot see thee for his wife. I'll be not so much as you have not here by the best; and so as he is not a man's virtue;\n",
      "    And when my heart is sweet and true, sir.\n",
      "  SECOND LORD. Why do you well.                                                                                                                                                                                                                                                                                                                                                                                                                                                 Exit PANDARUS. What is the constant leave to make a second sight,\n",
      "    And s\n"
     ]
    }
   ],
   "source": [
    "import hw3.answers\n",
    "\n",
    "start_seq, temperature = hw3.answers.part1_generation_params()\n",
    "\n",
    "generated_sequence = charnn.generate_from_model(\n",
    "    model, start_seq, 10000, (char_to_idx,idx_to_char), T=temperature\n",
    ")\n",
    "\n",
    "print(generated_sequence)"
   ]
  },
  {
   "cell_type": "markdown",
   "metadata": {},
   "source": [
    "## Questions\n",
    "<a id=part1_9></a>"
   ]
  },
  {
   "cell_type": "markdown",
   "metadata": {},
   "source": [
    "**TODO** Answer the following questions. Write your answers in the appropriate variables in the module `hw3/answers.py`."
   ]
  },
  {
   "cell_type": "code",
   "execution_count": 19,
   "metadata": {},
   "outputs": [],
   "source": [
    "from cs236605.answers import display_answer\n",
    "import hw3.answers"
   ]
  },
  {
   "cell_type": "markdown",
   "metadata": {},
   "source": [
    "### Question 1\n",
    "Why do we split the corpus into sequences instead of training on the whole text?"
   ]
  },
  {
   "cell_type": "code",
   "execution_count": 20,
   "metadata": {},
   "outputs": [
    {
     "data": {
      "text/markdown": [
       "\n",
       "**Your answer:**\n",
       "To limit degrees of freedome and computational complexity. for longer sequnces (and the all text in particular),\n",
       "the back-propagation and optimization process are done over many time-stamps, which makes it more susceptible to vanishing gradients and loss of context.\n"
      ],
      "text/plain": [
       "<IPython.core.display.Markdown object>"
      ]
     },
     "metadata": {},
     "output_type": "display_data"
    }
   ],
   "source": [
    "display_answer(hw3.answers.part1_q1)"
   ]
  },
  {
   "cell_type": "markdown",
   "metadata": {},
   "source": [
    "### Question 2\n",
    "How is it possible that the generated text clearly shows memory longer than the sequence length?"
   ]
  },
  {
   "cell_type": "code",
   "execution_count": 21,
   "metadata": {},
   "outputs": [
    {
     "data": {
      "text/markdown": [
       "\n",
       "**Your answer:**\n",
       "Thats the advantage of GRU to RNN. the process of learning the activation function can be described as \"learning what is important to remember\".\n",
       "the NN \"learns\" important features for a correct prediction, even if they typicaly appear in past sequnces (earlier in time).\n"
      ],
      "text/plain": [
       "<IPython.core.display.Markdown object>"
      ]
     },
     "metadata": {},
     "output_type": "display_data"
    }
   ],
   "source": [
    "display_answer(hw3.answers.part1_q2)"
   ]
  },
  {
   "cell_type": "markdown",
   "metadata": {},
   "source": [
    "### Question 3\n",
    "Why are we not shuffling the order of batches when training?"
   ]
  },
  {
   "cell_type": "code",
   "execution_count": 22,
   "metadata": {},
   "outputs": [
    {
     "data": {
      "text/markdown": [
       "\n",
       "**Your answer:**\n",
       "because RNN are sequntial and the hidden-state is transfer to the next time-stamp, the order of the batches is important\n"
      ],
      "text/plain": [
       "<IPython.core.display.Markdown object>"
      ]
     },
     "metadata": {},
     "output_type": "display_data"
    }
   ],
   "source": [
    "display_answer(hw3.answers.part1_q3)"
   ]
  },
  {
   "cell_type": "markdown",
   "metadata": {},
   "source": [
    "### Question 4\n",
    "1. Why do we lower the temperature for sampling (compared to the default of $1.0$ when training)?\n",
    "2. What happens when the temperature is very high and why?\n",
    "3. What happens when the temperature is very low and why?"
   ]
  },
  {
   "cell_type": "code",
   "execution_count": 23,
   "metadata": {},
   "outputs": [
    {
     "data": {
      "text/markdown": [
       "\n",
       "**Your answer:**\n",
       "Low temperature makes the RNN more confident and conservative in determining \"where\" it wants to look and what classes to consider.\n",
       "higher temperatures enable more diversity and \"risk taking\" on less-probable choices, but leads to more mistakes.\n",
       "For high temperatures $T \\rightarrow \\inf$, all samples have nearly the same probability, and for low temperature $T \\rightarrow 0$, the probability of the sample with the highest expected reward tends to 1.\n",
       "when training, we want the NN to \"experiment\" and learn from it's mistakes. when predicting sequences, we regulate the NN (thorugh the temperature) to choose the path with the higher likelihood.\n"
      ],
      "text/plain": [
       "<IPython.core.display.Markdown object>"
      ]
     },
     "metadata": {},
     "output_type": "display_data"
    }
   ],
   "source": [
    "display_answer(hw3.answers.part1_q4)"
   ]
  },
  {
   "cell_type": "code",
   "execution_count": null,
   "metadata": {},
   "outputs": [],
   "source": []
  }
 ],
 "metadata": {
  "kernelspec": {
   "display_name": "Python 3",
   "language": "python",
   "name": "python3"
  },
  "language_info": {
   "codemirror_mode": {
    "name": "ipython",
    "version": 3
   },
   "file_extension": ".py",
   "mimetype": "text/x-python",
   "name": "python",
   "nbconvert_exporter": "python",
   "pygments_lexer": "ipython3",
   "version": "3.7.1"
  }
 },
 "nbformat": 4,
 "nbformat_minor": 2
}
